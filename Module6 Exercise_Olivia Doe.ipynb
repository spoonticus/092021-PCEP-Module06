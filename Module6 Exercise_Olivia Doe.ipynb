{
 "cells": [
  {
   "cell_type": "markdown",
   "metadata": {},
   "source": [
    "### Exercise 1\n",
    "Convert following decimal number to a binary number by hand:\n",
    "\n",
    "    61\n",
    "    15\n",
    "    71\n",
    "    "
   ]
  },
  {
   "cell_type": "code",
   "execution_count": 2,
   "metadata": {},
   "outputs": [
    {
     "name": "stdout",
     "output_type": "stream",
     "text": [
      "0b111101\n"
     ]
    }
   ],
   "source": [
    "# 61\n",
    "\n",
    "# 61 // 2 = 30\n",
    "# 61 % 2 = 1\n",
    "\n",
    "# 30 // 2 = 15\n",
    "# 30 % 2 = 0\n",
    "\n",
    "# 15 // 2 = 7\n",
    "# 15 % 2 = 1\n",
    "\n",
    "# 7 // 2 = 3\n",
    "# 7 % 2 = 1\n",
    "\n",
    "# 3 // 2 = 1\n",
    "# 3 % 2 = 1\n",
    "\n",
    "# 1 // 2 = 0\n",
    "# 1 % 2 = 1\n",
    "\n",
    "# 0b0011 1101\n",
    "\n",
    "print(bin(61))"
   ]
  },
  {
   "cell_type": "code",
   "execution_count": 4,
   "metadata": {},
   "outputs": [
    {
     "name": "stdout",
     "output_type": "stream",
     "text": [
      "0b1111\n"
     ]
    }
   ],
   "source": [
    "# 15\n",
    "\n",
    "# 15 // 2 = 7\n",
    "# 15 % 2 = 1\n",
    "\n",
    "# 7 // 2 = 3\n",
    "# 7 % 2 = 1\n",
    "\n",
    "# 3 // 2 = 1\n",
    "# 3 % 2 = 1\n",
    "\n",
    "# 1 // 2 = 0\n",
    "# 1 % 2 = 1\n",
    "\n",
    "# 0b0000 1111\n",
    "\n",
    "print(bin(15))"
   ]
  },
  {
   "cell_type": "code",
   "execution_count": 5,
   "metadata": {},
   "outputs": [
    {
     "name": "stdout",
     "output_type": "stream",
     "text": [
      "0b1000111\n"
     ]
    }
   ],
   "source": [
    "# 71\n",
    "\n",
    "# 71 // 2 = 35\n",
    "# 71 % 2 = 1\n",
    "\n",
    "# 35 // 2 = 17\n",
    "# 35 % 2 = 1\n",
    "\n",
    "# 17 // 2 = 8\n",
    "# 17 % 2 = 1\n",
    "\n",
    "# 8 // 2 = 4\n",
    "# 8 % 2 = 0\n",
    "\n",
    "# 4 // 2 = 2\n",
    "# 4 % 2 = 0\n",
    "\n",
    "# 2 // 2 = 1\n",
    "# 2 % 2 = 0\n",
    "\n",
    "# 1 // 2 = 0\n",
    "# 1 % 2 = 1\n",
    "\n",
    "# 0b01000 0111\n",
    "print(bin(71))"
   ]
  },
  {
   "cell_type": "markdown",
   "metadata": {},
   "source": [
    "### Exercise 2\n",
    "When a = 61 and b = 15, what is the result of following bitwise opertion? Use inline comments to show your result in a binary number. Find your answer by hand.\n",
    "\n",
    "    a & b\n",
    "    a | b\n",
    "    a ^ b\n",
    "    a >> 2\n",
    "    "
   ]
  },
  {
   "cell_type": "code",
   "execution_count": 6,
   "metadata": {},
   "outputs": [],
   "source": [
    "# convert a in to a binary number\n",
    "# 61\n",
    "# 61 // 2 = 30\n",
    "# 61 % 2 = 1\n",
    "\n",
    "# 30 // 2 = 15\n",
    "# 30 % 2 = 0\n",
    "\n",
    "# 15 // 2 = 7\n",
    "# 15 % 2 = 1\n",
    "\n",
    "# 7 // 2 = 3 \n",
    "# 7 % 2 = 1\n",
    "\n",
    "# 3 // 2 = 1\n",
    "# 3 % 2 = 1\n",
    "\n",
    "# 1 // 2 = 0\n",
    "# 1 % 2 = 1\n",
    "\n",
    "#0b 0011 1101\n",
    "\n"
   ]
  },
  {
   "cell_type": "code",
   "execution_count": null,
   "metadata": {},
   "outputs": [],
   "source": [
    "# convert b in to a binary number\n",
    "# 15\n",
    "# 15 // 2 = 7\n",
    "# 15 % 2 = 1\n",
    "\n",
    "# 7 // 2 = 3\n",
    "# 7 % 2 = 1\n",
    "\n",
    "# 3 // 2 = 1\n",
    "# 3 % 2 = 1\n",
    "\n",
    "# 1 // 2 = 0\n",
    "# 1 % 2 = 1\n",
    "\n",
    "# 0b 0000 1111\n"
   ]
  },
  {
   "cell_type": "code",
   "execution_count": null,
   "metadata": {},
   "outputs": [],
   "source": [
    "# a & b\n",
    "\n",
    "#0b 0011 1101\n",
    "#0b 0000 1111\n",
    "# &\n",
    "#0b 0000 1101\n"
   ]
  },
  {
   "cell_type": "code",
   "execution_count": null,
   "metadata": {},
   "outputs": [],
   "source": [
    "# a | b\n",
    "\n",
    "#0b 0011 1101\n",
    "#0b 0000 1111\n",
    "# |\n",
    "#0b 0011 1111\n"
   ]
  },
  {
   "cell_type": "code",
   "execution_count": null,
   "metadata": {},
   "outputs": [],
   "source": [
    "# a ^ b\n",
    "\n",
    "#0b 0011 1101\n",
    "#0b 0000 1111\n",
    "# ^\n",
    "#0b 0011 0010\n"
   ]
  },
  {
   "cell_type": "code",
   "execution_count": null,
   "metadata": {},
   "outputs": [],
   "source": [
    "# a >> 2\n",
    "\n",
    "#0b 0011 1101\n",
    "# >> 2\n",
    "#0b 0000 1111"
   ]
  },
  {
   "cell_type": "markdown",
   "metadata": {},
   "source": [
    "### Exercise 3\n",
    "Ask a user for a code and store that answer. \n",
    "If the answer is <b>grey</b> then print \"You found secret code.\"\n",
    "Otherwise print that the entered code is not the secret code."
   ]
  },
  {
   "cell_type": "code",
   "execution_count": 6,
   "metadata": {},
   "outputs": [
    {
     "name": "stdout",
     "output_type": "stream",
     "text": [
      "Enter Secret Code:grey\n",
      "\n",
      "__   __             __                       _ \n",
      "\\ \\ / /__  _   _   / _| ___  _   _ _ __   __| |\n",
      " \\ V / _ \\| | | | | |_ / _ \\| | | | '_ \\ / _` |\n",
      "  | | (_) | |_| | |  _| (_) | |_| | | | | (_| |\n",
      "  |_|\\___/ \\__,_| |_|  \\___/ \\__,_|_| |_|\\__,_|\n",
      "                                               \n",
      "                        _                   _        \n",
      " ___  ___  ___ _ __ ___| |_    ___ ___   __| | ___   \n",
      "/ __|/ _ \\/ __| '__/ _ \\ __|  / __/ _ \\ / _` |/ _ \\  \n",
      "\\__ \\  __/ (__| | |  __/ |_  | (_| (_) | (_| |  __/_ \n",
      "|___/\\___|\\___|_|  \\___|\\__|  \\___\\___/ \\__,_|\\___(_)\n"
     ]
    }
   ],
   "source": [
    "secret_code = input(\"Enter Secret Code:\")\n",
    "\n",
    "\n",
    "if secret_code == \"grey\" :\n",
    "    print(\"\"\"\n",
    "__   __             __                       _ \n",
    "\\ \\ / /__  _   _   / _| ___  _   _ _ __   __| |\n",
    " \\ V / _ \\| | | | | |_ / _ \\| | | | '_ \\ / _` |\n",
    "  | | (_) | |_| | |  _| (_) | |_| | | | | (_| |\n",
    "  |_|\\___/ \\__,_| |_|  \\___/ \\__,_|_| |_|\\__,_|\n",
    "                                               \n",
    "                        _                   _        \n",
    " ___  ___  ___ _ __ ___| |_    ___ ___   __| | ___   \n",
    "/ __|/ _ \\/ __| '__/ _ \\ __|  / __/ _ \\ / _` |/ _ \\  \n",
    "\\__ \\  __/ (__| | |  __/ |_  | (_| (_) | (_| |  __/_ \n",
    "|___/\\___|\\___|_|  \\___|\\__|  \\___\\___/ \\__,_|\\___(_)\"\"\")\n",
    "else :\n",
    "    print(\"The entered is not the secret code.\")\n",
    "        "
   ]
  },
  {
   "cell_type": "markdown",
   "metadata": {},
   "source": [
    "### Exercise 4\n",
    "Ask for an exam score and store that number. If the number is greater than 100, then print out 'You cannot have an exam score higher than 100'. If the number doesn't exceeed 100 but is greater than or equal to 75, then print out 'You did great on your exam!'. Otherwise if they scored lower than 75, then print out 'You need to study harder'."
   ]
  },
  {
   "cell_type": "code",
   "execution_count": 11,
   "metadata": {},
   "outputs": [
    {
     "name": "stdout",
     "output_type": "stream",
     "text": [
      "Enter Exam Score: 101\n",
      "You cannot have an exam score higher than 100\n"
     ]
    }
   ],
   "source": [
    "exam_score = float(input(\"Enter Exam Score: \"))\n",
    "\n",
    "if exam_score > 100 :\n",
    "    message = \"You cannot have an exam score higher than 100\"\n",
    "elif exam_score >= 75 :\n",
    "    message = \"You did great on your exam!\"\n",
    "else : \n",
    "    message = \"You need to study harder\"\n",
    "    \n",
    "print(message)"
   ]
  },
  {
   "cell_type": "markdown",
   "metadata": {},
   "source": [
    "### Exercise 5\n",
    "Write a function to convert a test score to a grade where  \n",
    " - 90 - 100: A\n",
    " - 80 - 89:  B\n",
    " - 70 - 79:  C\n",
    " - 60 - 69:  D\n",
    " - < 60   :  F\n",
    " \n",
    "If a score is not between 0 and 100 then print out an error message. In the program, ask the user for a score and then call your function. "
   ]
  },
  {
   "cell_type": "code",
   "execution_count": 25,
   "metadata": {},
   "outputs": [],
   "source": [
    "# define your function\n",
    "def check_test_score (score):\n",
    "    if score > 100 :\n",
    "        grade = \"Error Out of Bound\"\n",
    "    elif score <= 100 and score >= 90 :\n",
    "        grade = \"A\"\n",
    "    elif score <= 89 and score >= 80 :\n",
    "        grade = \"B\"\n",
    "    elif score <= 79 and score >= 70 :\n",
    "        grade = \"C\"\n",
    "    elif score <= 69 and score >= 60 :\n",
    "        grade = \"D\"\n",
    "    elif score < 60 and score >= 0 :\n",
    "        grade = \"F\"\n",
    "    else :\n",
    "        grade = \"Error Out of Bound\"\n",
    "        \n",
    "    return grade"
   ]
  },
  {
   "cell_type": "code",
   "execution_count": 26,
   "metadata": {},
   "outputs": [
    {
     "name": "stdout",
     "output_type": "stream",
     "text": [
      "Enter Test Score: 0\n",
      "Grade: F\n"
     ]
    }
   ],
   "source": [
    "# ask the user for a score and then call your function\n",
    "\n",
    "test_score = float(input(\"Enter Test Score: \"))\n",
    "\n",
    "print(\"Grade: {}\".format(check_test_score(test_score)))"
   ]
  },
  {
   "cell_type": "code",
   "execution_count": null,
   "metadata": {},
   "outputs": [],
   "source": []
  }
 ],
 "metadata": {
  "kernelspec": {
   "display_name": "Python 3",
   "language": "python",
   "name": "python3"
  },
  "language_info": {
   "codemirror_mode": {
    "name": "ipython",
    "version": 3
   },
   "file_extension": ".py",
   "mimetype": "text/x-python",
   "name": "python",
   "nbconvert_exporter": "python",
   "pygments_lexer": "ipython3",
   "version": "3.8.8"
  }
 },
 "nbformat": 4,
 "nbformat_minor": 4
}
